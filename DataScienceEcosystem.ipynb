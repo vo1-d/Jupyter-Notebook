{
 "cells": [
  {
   "cell_type": "markdown",
   "id": "060e1dd9-5918-4232-8c34-712391a37180",
   "metadata": {},
   "source": [
    "# Data Science  Tools and Ecosystem"
   ]
  },
  {
   "cell_type": "markdown",
   "id": "19f627bc-051e-462b-a419-eee5fb21eec7",
   "metadata": {},
   "source": [
    "**Objectives:**\n",
    "- List programming languages that are commonly used by Data Scientists\n",
    "- List Data Science tools\n",
    "- Demonstrate simple arithmetics operations in Python"
   ]
  },
  {
   "cell_type": "markdown",
   "id": "2a9ab04e-5910-48ab-a0fd-773d0e75a4c3",
   "metadata": {},
   "source": [
    "In this notebook, Data Science Tools and Ecosystem are summarized"
   ]
  },
  {
   "cell_type": "markdown",
   "id": "7b867094-bf14-4ed6-9d38-2cb0c5bec569",
   "metadata": {},
   "source": [
    "Some of the languages that Data Scientists use are:\n",
    "\n",
    "    1. Python\n",
    "    2. R\n",
    "    3. Java\n",
    "    4. C++"
   ]
  },
  {
   "cell_type": "markdown",
   "id": "c580b050-a7a6-485c-b8ed-18d4e33db5e9",
   "metadata": {},
   "source": [
    "Some of the commonly used libraries used by Data Scientists include:\n",
    "\n",
    "    1. NumPy\n",
    "    2. Pandas\n",
    "    3. Scikit-learn\n",
    "    4. TensorFlow"
   ]
  },
  {
   "cell_type": "markdown",
   "id": "f592bbba-a865-489d-8ecd-734b269964d6",
   "metadata": {},
   "source": [
    "| Data Science tools |\n",
    "|--------------------|\n",
    "|    Jupyter lab     |\n",
    "|      GitHub        |\n",
    "|Data Asset Exchange |\n",
    "|      RStudio       |"
   ]
  },
  {
   "cell_type": "markdown",
   "id": "1941961b-2abd-4a17-8cb9-e732c2760a5b",
   "metadata": {},
   "source": [
    "### Below are a examples of evaluating arithmetic expressions in Python:\n"
   ]
  },
  {
   "cell_type": "code",
   "execution_count": 1,
   "id": "aaaa2751-a0ec-44eb-978f-6a7ddaa3ff51",
   "metadata": {
    "tags": []
   },
   "outputs": [
    {
     "name": "stdout",
     "output_type": "stream",
     "text": [
      "17\n"
     ]
    }
   ],
   "source": [
    "print((3*4)+5)\n",
    "# This a simple arithmetic operation in Python"
   ]
  },
  {
   "cell_type": "code",
   "execution_count": 2,
   "id": "62190fb9-f81a-4ba8-8fe9-0b68e26cf541",
   "metadata": {},
   "outputs": [
    {
     "name": "stdout",
     "output_type": "stream",
     "text": [
      "3.3333333333333335\n"
     ]
    }
   ],
   "source": [
    "# This will convert 200 minutes to hours by diving by 60\n",
    "print(200/60)"
   ]
  },
  {
   "cell_type": "markdown",
   "id": "7fb55700-eb6e-4b5c-be63-4075b89aa182",
   "metadata": {},
   "source": [
    "## Author\n",
    "Asliddin Isroilov"
   ]
  },
  {
   "cell_type": "code",
   "execution_count": null,
   "id": "5b897b0b-fea6-43c4-ad43-394caef2c869",
   "metadata": {},
   "outputs": [],
   "source": []
  }
 ],
 "metadata": {
  "kernelspec": {
   "display_name": "Python 3 (ipykernel)",
   "language": "python",
   "name": "python3"
  },
  "language_info": {
   "codemirror_mode": {
    "name": "ipython",
    "version": 3
   },
   "file_extension": ".py",
   "mimetype": "text/x-python",
   "name": "python",
   "nbconvert_exporter": "python",
   "pygments_lexer": "ipython3",
   "version": "3.10.12"
  }
 },
 "nbformat": 4,
 "nbformat_minor": 5
}
